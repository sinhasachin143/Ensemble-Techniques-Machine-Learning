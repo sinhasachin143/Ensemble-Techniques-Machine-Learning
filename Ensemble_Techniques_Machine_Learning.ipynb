{
  "nbformat": 4,
  "nbformat_minor": 0,
  "metadata": {
    "colab": {
      "provenance": []
    },
    "kernelspec": {
      "name": "python3",
      "display_name": "Python 3"
    },
    "language_info": {
      "name": "python"
    }
  },
  "cells": [
    {
      "cell_type": "markdown",
      "source": [
        "#Ensemble Learning\n",
        "#Assignment Questions\n",
        "#Theoretical Questions"
      ],
      "metadata": {
        "id": "_B1Pq8lYwpDX"
      }
    },
    {
      "cell_type": "markdown",
      "source": [
        "Q1. Can we use Bagging for regression problems?\n",
        " - ✅ Yes. Bagging can be applied to both classification and regression tasks. In regression, models like DecisionTreeRegressor are trained on bootstrap samples, and the final prediction is the average of all predictions.\n",
        "\n",
        "\n",
        "---\n",
        "\n",
        "\n",
        "\n",
        "Q2. What is the difference between multiple model training and single model training?\n",
        " - Single model training uses one algorithm trained on the full dataset.\n",
        "\n",
        "Multiple model training (ensemble) uses many models (e.g., in Bagging or Boosting) and combines their results, leading to better generalization and stability.\n",
        "\n",
        "\n",
        "---\n",
        "\n",
        "\n",
        "Q3. Explain the concept of feature randomness in Random Forest.\n",
        " - In Random Forests, at each split in a tree:\n",
        "\n",
        "Instead of considering all features, only a random subset of features is considered.\n",
        "\n",
        "This introduces decorrelation between trees, improving diversity and reducing overfitting.\n",
        "\n",
        "\n",
        "---\n",
        "Q4. What is OOB (Out-of-Bag) Score?\n",
        " - During Bagging, each model is trained on a bootstrap sample (random sample with replacement).\n",
        "\n",
        "The OOB samples (left out during training) are used to validate the model.\n",
        "\n",
        "OOB Score is the average accuracy (or error) on those samples — like a built-in cross-validation.\n",
        "\n",
        "\n",
        "---\n",
        "\n",
        "\n",
        "Q5. How can you measure the importance of features in a Random Forest model?\n",
        " - Based on how much a feature decreases impurity (Gini or Entropy) when used for splitting.\n",
        "\n",
        "Or by permutation importance: randomly shuffle one feature and observe the drop in model performance.\n",
        "\n",
        "\n",
        "---\n",
        "\n",
        "\n",
        "Q6. Explain the working principle of a Bagging Classifier.\n",
        " - Bagging stands for Bootstrap Aggregating.\n",
        "\n",
        "It creates multiple models (e.g., Decision Trees) by:\n",
        "\n",
        "Drawing random bootstrap samples of data.\n",
        "\n",
        "Training a separate model on each sample.\n",
        "\n",
        "Aggregating predictions by majority vote (classification).\n",
        "\n",
        "\n",
        "---\n",
        "\n",
        "\n",
        "Q7. How do you evaluate a Bagging Classifier’s performance?\n",
        " - Use standard metrics like accuracy, precision, recall, F1-score, or ROC-AUC.\n",
        "\n",
        "You can also use the OOB score or cross-validation for evaluation.\n",
        "\n",
        "\n",
        "---\n",
        "\n",
        "\n",
        "Q8. How does a Bagging Regressor work?\n",
        " - Similar to Bagging Classifier, but:\n",
        "\n",
        "Uses models like DecisionTreeRegressor.\n",
        "\n",
        "Combines predictions using the average of outputs from all regressors.\n",
        "\n",
        "\n",
        "---\n",
        "\n",
        "\n",
        "Q9. What is the main advantage of ensemble techniques?\n",
        " - ✅ Improved performance: Ensembles reduce variance, bias, or both — leading to higher accuracy and robustness than single models.\n",
        "\n",
        "\n",
        "---\n",
        "\n",
        "\n",
        "Q10. What is the main challenge of ensemble methods?\n",
        " - ⚠️ They can be:\n",
        "\n",
        "Complex and harder to interpret\n",
        "\n",
        "Slower to train and predict\n",
        "\n",
        "Require more resources (memory and computation)\n",
        "\n",
        "\n",
        "---\n",
        "\n",
        "\n",
        "Q11. Explain the key idea behind ensemble techniques\n",
        " - \"Combine multiple weak learners to build a strong learner.\"\n",
        "\n",
        "Ensembles merge multiple models to improve prediction quality through methods like voting, averaging, or weighted combinations.\n",
        "\n",
        "\n",
        "---\n",
        "\n",
        "\n",
        "Q12. What is a Random Forest Classifier?\n",
        " - An ensemble of Decision Trees, trained using Bagging and random feature selection.\n",
        "\n",
        "Predictions are made by majority voting from all trees.\n",
        "\n",
        "It’s robust, accurate, and widely used in classification tasks.\n",
        "\n",
        "\n",
        "---\n",
        "\n",
        "\n",
        "Q13. What are the main types of ensemble techniques?\n",
        " - Bagging: Reduces variance (e.g., Random Forest)\n",
        "\n",
        "Boosting: Reduces bias (e.g., AdaBoost, XGBoost)\n",
        "\n",
        "Stacking: Combines outputs from multiple models using a meta-model\n",
        "\n",
        "\n",
        "---\n",
        "\n",
        "\n",
        "Q14. What is ensemble learning in machine learning?\n",
        " - Ensemble learning is a method that combines predictions from multiple models to produce better results than any single model.\n",
        "\n",
        "\n",
        "---\n",
        "\n",
        "\n",
        "Q15. When should we avoid using ensemble methods?\n",
        " - When interpretability is critical (e.g., medical decisions)\n",
        "\n",
        "On small datasets (can lead to overfitting)\n",
        "\n",
        "When speed or resource constraints are strict\n",
        "\n",
        "\n",
        "---\n",
        "\n",
        "Q16. How does Bagging help in reducing overfitting?\n",
        " - Bagging reduces variance by averaging predictions from many models.\n",
        "\n",
        "Each model sees a slightly different dataset, preventing over-reliance on noise or specific data patterns.\n",
        "\n",
        "\n",
        "---\n",
        "\n",
        "\n",
        "Q17. Why is Random Forest better than a single Decision Tree?\n",
        " - A single tree is prone to overfitting.\n",
        "\n",
        "A Random Forest averages predictions, reducing variance and increasing generalization.\n",
        "\n",
        "\n",
        "---\n",
        "\n",
        "\n",
        "Q18. What is the role of bootstrap sampling in Bagging?\n",
        " - Each model in the ensemble is trained on a random sample (with replacement).\n",
        "\n",
        "This creates diverse learners, which improves performance when aggregated.\n",
        "\n",
        "\n",
        "---\n",
        "\n",
        "\n",
        "Q19. What are some real-world applications of ensemble techniques?\n",
        " - Domain\tExample Uses\n",
        "🏥 Healthcare\tDisease prediction, medical diagnosis\n",
        "🏦 Finance\tCredit scoring, fraud detection\n",
        "📧 Spam detection\tEmail filters using boosted classifiers\n",
        "🛍️ E-commerce\tRecommendation systems, customer segmentation\n",
        "🤖 Computer Vision\tImage classification with ensembles of CNNs\n",
        "\n",
        "\n",
        "\n",
        "---\n",
        "Q20. What is the difference between Bagging and Boosting?\n",
        "\n",
        " - Bagging reduces variance by training models independently and averaging their predictions.\n",
        "Boosting reduces bias by training models sequentially, correcting errors at each step.\n",
        "Example: Random Forest (Bagging) vs. XGBoost (Boosting) in Kaggle competitions.\n"
      ],
      "metadata": {
        "id": "jsR3WPYbw_6H"
      }
    },
    {
      "cell_type": "markdown",
      "source": [
        "#Practical Questions"
      ],
      "metadata": {
        "id": "A1E5ZYGe1Kzx"
      }
    },
    {
      "cell_type": "code",
      "source": [
        "#Q21. Train a Bagging Classifier using Decision Trees on a sample dataset and print model accuracy.\n",
        "\n",
        "from sklearn.ensemble import BaggingClassifier\n",
        "from sklearn.tree import DecisionTreeClassifier\n",
        "from sklearn.model_selection import train_test_split\n",
        "from sklearn.metrics import accuracy_score\n",
        "from sklearn.datasets import make_classification\n",
        "\n",
        "# Generating sample data\n",
        "X, y = make_classification(n_samples=1000, n_features=20, random_state=42)\n",
        "\n",
        "# Spliting data\n",
        "X_train, X_test, y_train, y_test = train_test_split(X, y, test_size=0.2, random_state=42)\n",
        "\n",
        "# Training Bagging Classifier\n",
        "bagging_clf = BaggingClassifier(estimator=DecisionTreeClassifier(), n_estimators=50, random_state=42)\n",
        "bagging_clf.fit(X_train, y_train)\n",
        "\n",
        "# Predicting and printing accuracy\n",
        "y_pred = bagging_clf.predict(X_test)\n",
        "print(\"Bagging Classifier Accuracy:\", accuracy_score(y_test, y_pred))"
      ],
      "metadata": {
        "colab": {
          "base_uri": "https://localhost:8080/"
        },
        "id": "_m4EL22d1T_T",
        "outputId": "46e7968c-546c-4a39-8e1c-55263911048a"
      },
      "execution_count": 3,
      "outputs": [
        {
          "output_type": "stream",
          "name": "stdout",
          "text": [
            "Bagging Classifier Accuracy: 0.885\n"
          ]
        }
      ]
    },
    {
      "cell_type": "code",
      "source": [
        "#Q22. Train a Bagging Regressor using Decision Trees and evaluate using Mean Squared Error (MSE).\n",
        "\n",
        "from sklearn.ensemble import BaggingRegressor\n",
        "from sklearn.tree import DecisionTreeRegressor\n",
        "from sklearn.metrics import mean_squared_error\n",
        "from sklearn.datasets import make_regression\n",
        "\n",
        "# Generating sample data\n",
        "X, y = make_regression(n_samples=1000, n_features=10, noise=0.1, random_state=42)\n",
        "\n",
        "# Spliting data\n",
        "X_train, X_test, y_train, y_test = train_test_split(X, y, test_size=0.2, random_state=42)\n",
        "\n",
        "# Training Bagging Regressor\n",
        "bagging_reg = BaggingRegressor(estimator=DecisionTreeRegressor(), n_estimators=50, random_state=42)\n",
        "bagging_reg.fit(X_train, y_train)\n",
        "\n",
        "# Predicting and evaluating MSE\n",
        "y_pred = bagging_reg.predict(X_test)\n",
        "print(\"Mean Squared Error:\", mean_squared_error(y_test, y_pred))"
      ],
      "metadata": {
        "colab": {
          "base_uri": "https://localhost:8080/"
        },
        "id": "tIbZ15tq1zle",
        "outputId": "d1534b85-bed2-4244-a0c5-cf1d481c4d21"
      },
      "execution_count": 5,
      "outputs": [
        {
          "output_type": "stream",
          "name": "stdout",
          "text": [
            "Mean Squared Error: 2664.080927647363\n"
          ]
        }
      ]
    },
    {
      "cell_type": "code",
      "source": [
        "#Q23. Train a Random Forest Classifier on the Breast Cancer dataset and print feature importance scores.\n",
        "\n",
        "from sklearn.datasets import load_breast_cancer\n",
        "from sklearn.ensemble import RandomForestClassifier\n",
        "from sklearn.model_selection import train_test_split\n",
        "import pandas as pd\n",
        "\n",
        "# 1. Load the Breast Cancer dataset\n",
        "data = load_breast_cancer()\n",
        "X, y = data.data, data.target\n",
        "feature_names = data.feature_names\n",
        "\n",
        "# 2. Split the data\n",
        "X_train, X_test, y_train, y_test = train_test_split(\n",
        "    X, y, test_size=0.2, random_state=42\n",
        ")\n",
        "\n",
        "# 3. Train Random Forest Classifier\n",
        "rf_model = RandomForestClassifier(n_estimators=100, random_state=42)\n",
        "rf_model.fit(X_train, y_train)\n",
        "\n",
        "# 4. Get feature importance scores\n",
        "importances = rf_model.feature_importances_\n",
        "\n",
        "# 5. Display feature importances as a sorted DataFrame\n",
        "importance_df = pd.DataFrame({\n",
        "    'Feature': feature_names,\n",
        "    'Importance': importances\n",
        "}).sort_values(by='Importance', ascending=False)\n",
        "\n",
        "print(\"📊 Feature Importance Scores (Descending Order):\")\n",
        "print(importance_df.to_string(index=False))\n"
      ],
      "metadata": {
        "colab": {
          "base_uri": "https://localhost:8080/"
        },
        "id": "0DE16uHz2SsE",
        "outputId": "5c7d817c-963a-439e-887e-9b6f46a47bf6"
      },
      "execution_count": 6,
      "outputs": [
        {
          "output_type": "stream",
          "name": "stdout",
          "text": [
            "📊 Feature Importance Scores (Descending Order):\n",
            "                Feature  Importance\n",
            "             worst area    0.153892\n",
            "   worst concave points    0.144663\n",
            "    mean concave points    0.106210\n",
            "           worst radius    0.077987\n",
            "         mean concavity    0.068001\n",
            "        worst perimeter    0.067115\n",
            "         mean perimeter    0.053270\n",
            "            mean radius    0.048703\n",
            "              mean area    0.047555\n",
            "        worst concavity    0.031802\n",
            "             area error    0.022407\n",
            "          worst texture    0.021749\n",
            "      worst compactness    0.020266\n",
            "           radius error    0.020139\n",
            "       mean compactness    0.013944\n",
            "           mean texture    0.013591\n",
            "        perimeter error    0.011303\n",
            "       worst smoothness    0.010644\n",
            "         worst symmetry    0.010120\n",
            "        concavity error    0.009386\n",
            "        mean smoothness    0.007285\n",
            "fractal dimension error    0.005321\n",
            "      compactness error    0.005253\n",
            "worst fractal dimension    0.005210\n",
            "          texture error    0.004724\n",
            "       smoothness error    0.004271\n",
            "         symmetry error    0.004018\n",
            " mean fractal dimension    0.003886\n",
            "          mean symmetry    0.003770\n",
            "   concave points error    0.003513\n"
          ]
        }
      ]
    },
    {
      "cell_type": "code",
      "source": [
        "#Q24. Train a Random Forest Regressor and compare its performance with a single Decision Tree.\n",
        "\n",
        "from sklearn.datasets import fetch_california_housing\n",
        "from sklearn.model_selection import train_test_split\n",
        "from sklearn.tree import DecisionTreeRegressor\n",
        "from sklearn.ensemble import RandomForestRegressor\n",
        "from sklearn.preprocessing import StandardScaler\n",
        "from sklearn.metrics import mean_squared_error\n",
        "\n",
        "# 1. Load dataset\n",
        "X, y = fetch_california_housing(return_X_y=True)\n",
        "\n",
        "# 2. Scale features (optional but helpful)\n",
        "scaler = StandardScaler()\n",
        "X_scaled = scaler.fit_transform(X)\n",
        "\n",
        "# 3. Train-test split\n",
        "X_train, X_test, y_train, y_test = train_test_split(\n",
        "    X_scaled, y, test_size=0.2, random_state=42\n",
        ")\n",
        "\n",
        "# 4. Train Decision Tree Regressor\n",
        "tree = DecisionTreeRegressor(random_state=42)\n",
        "tree.fit(X_train, y_train)\n",
        "y_pred_tree = tree.predict(X_test)\n",
        "mse_tree = mean_squared_error(y_test, y_pred_tree)\n",
        "\n",
        "# 5. Train Random Forest Regressor\n",
        "forest = RandomForestRegressor(n_estimators=100, random_state=42)\n",
        "forest.fit(X_train, y_train)\n",
        "y_pred_forest = forest.predict(X_test)\n",
        "mse_forest = mean_squared_error(y_test, y_pred_forest)\n",
        "\n",
        "# 6. Compare results\n",
        "print(f\"🌳 Decision Tree Regressor MSE:     {mse_tree:.4f}\")\n",
        "print(f\"🌲 Random Forest Regressor MSE:     {mse_forest:.4f}\")\n"
      ],
      "metadata": {
        "colab": {
          "base_uri": "https://localhost:8080/"
        },
        "id": "oK9fns5c2w99",
        "outputId": "3fb2838b-472b-4fd3-ca15-65dab5994932"
      },
      "execution_count": 7,
      "outputs": [
        {
          "output_type": "stream",
          "name": "stdout",
          "text": [
            "🌳 Decision Tree Regressor MSE:     0.4943\n",
            "🌲 Random Forest Regressor MSE:     0.2555\n"
          ]
        }
      ]
    },
    {
      "cell_type": "code",
      "source": [
        "#Q25. Compute the Out-of-Bag (OOB) Score for a Random Forest Classifier.\n",
        "\n",
        "from sklearn.datasets import load_breast_cancer\n",
        "from sklearn.ensemble import RandomForestClassifier\n",
        "from sklearn.model_selection import train_test_split\n",
        "\n",
        "# 1. Load the Breast Cancer dataset\n",
        "data = load_breast_cancer()\n",
        "X, y = data.data, data.target\n",
        "\n",
        "# 2. Split the dataset (optional for comparison; not needed for OOB)\n",
        "X_train, X_test, y_train, y_test = train_test_split(\n",
        "    X, y, test_size=0.2, random_state=42\n",
        ")\n",
        "\n",
        "# 3. Train Random Forest Classifier with OOB enabled\n",
        "rf_model = RandomForestClassifier(\n",
        "    n_estimators=100,\n",
        "    oob_score=True,\n",
        "    bootstrap=True,\n",
        "    random_state=42\n",
        ")\n",
        "rf_model.fit(X_train, y_train)\n",
        "\n",
        "# 4. Print OOB score\n",
        "print(f\"📊 Out-of-Bag (OOB) Score: {rf_model.oob_score_:.4f}\")\n"
      ],
      "metadata": {
        "colab": {
          "base_uri": "https://localhost:8080/"
        },
        "id": "eYkx7lR43Sij",
        "outputId": "5adfe231-192f-4cdb-dd3e-a6a6cbcd16d6"
      },
      "execution_count": 8,
      "outputs": [
        {
          "output_type": "stream",
          "name": "stdout",
          "text": [
            "📊 Out-of-Bag (OOB) Score: 0.9560\n"
          ]
        }
      ]
    },
    {
      "cell_type": "code",
      "source": [
        "#Q26. Train a Bagging Classifier using SVM as a base estimator and print accuracy.\n",
        "\n",
        "from sklearn.ensemble import BaggingClassifier\n",
        "from sklearn.svm import SVC\n",
        "from sklearn.metrics import accuracy_score\n",
        "from sklearn.datasets import make_classification\n",
        "\n",
        "# Generating sample data\n",
        "X, y = make_classification(n_samples=1000, n_features=20, random_state=42)\n",
        "\n",
        "# Spliting data\n",
        "X_train, X_test, y_train, y_test = train_test_split(X, y, test_size=0.2, random_state=42)\n",
        "\n",
        "# Training Bagging Classifier with SVM as base estimator\n",
        "bagging_svm = BaggingClassifier(estimator=SVC(), n_estimators=50, random_state=42)\n",
        "bagging_svm.fit(X_train, y_train)\n",
        "\n",
        "# Predicting and printing accuracy\n",
        "y_pred = bagging_svm.predict(X_test)\n",
        "print(\"Bagging SVM Classifier Accuracy:\", accuracy_score(y_test, y_pred))"
      ],
      "metadata": {
        "colab": {
          "base_uri": "https://localhost:8080/"
        },
        "id": "5Qtfv6B932iM",
        "outputId": "49534cb1-b493-4489-ccc1-3a46d73f7653"
      },
      "execution_count": 10,
      "outputs": [
        {
          "output_type": "stream",
          "name": "stdout",
          "text": [
            "Bagging SVM Classifier Accuracy: 0.855\n"
          ]
        }
      ]
    },
    {
      "cell_type": "code",
      "source": [
        "#Q27. Train a Random Forest Classifier with different numbers of trees and compare accuracy.\n",
        "\n",
        "from sklearn.datasets import load_breast_cancer\n",
        "from sklearn.ensemble import RandomForestClassifier\n",
        "from sklearn.model_selection import train_test_split\n",
        "from sklearn.metrics import accuracy_score\n",
        "\n",
        "# 1. Load the dataset\n",
        "data = load_breast_cancer()\n",
        "X, y = data.data, data.target\n",
        "\n",
        "# 2. Split into training and testing sets\n",
        "X_train, X_test, y_train, y_test = train_test_split(\n",
        "    X, y, test_size=0.2, random_state=42\n",
        ")\n",
        "\n",
        "# 3. Try different numbers of trees\n",
        "tree_counts = [1, 10, 50, 100, 200]\n",
        "print(\"🌲 Random Forest Accuracy with Different Numbers of Trees:\")\n",
        "\n",
        "for n in tree_counts:\n",
        "    rf_model = RandomForestClassifier(n_estimators=n, random_state=42)\n",
        "    rf_model.fit(X_train, y_train)\n",
        "    y_pred = rf_model.predict(X_test)\n",
        "    accuracy = accuracy_score(y_test, y_pred)\n",
        "    print(f\" - {n} trees: Accuracy = {accuracy:.4f}\")\n"
      ],
      "metadata": {
        "colab": {
          "base_uri": "https://localhost:8080/"
        },
        "id": "ud3KqOWq4LHQ",
        "outputId": "c5539e53-89e7-4219-b06c-5a5febbb35ad"
      },
      "execution_count": 11,
      "outputs": [
        {
          "output_type": "stream",
          "name": "stdout",
          "text": [
            "🌲 Random Forest Accuracy with Different Numbers of Trees:\n",
            " - 1 trees: Accuracy = 0.9386\n",
            " - 10 trees: Accuracy = 0.9561\n",
            " - 50 trees: Accuracy = 0.9649\n",
            " - 100 trees: Accuracy = 0.9649\n",
            " - 200 trees: Accuracy = 0.9649\n"
          ]
        }
      ]
    },
    {
      "cell_type": "code",
      "source": [
        "#Q28. Train a Bagging Classifier using Logistic Regression as a base estimator and print AUC score.\n",
        "\n",
        "from sklearn.linear_model import LogisticRegression\n",
        "from sklearn.metrics import roc_auc_score\n",
        "\n",
        "# Training Bagging Classifier with Logistic Regression\n",
        "bagging_lr = BaggingClassifier(estimator=LogisticRegression(), n_estimators=50, random_state=42)\n",
        "bagging_lr.fit(X_train, y_train)\n",
        "\n",
        "# Predict probabilities and print AUC score\n",
        "y_pred_prob = bagging_lr.predict_proba(X_test)[:, 1]\n",
        "print(\"AUC Score:\", roc_auc_score(y_test, y_pred_prob))"
      ],
      "metadata": {
        "colab": {
          "base_uri": "https://localhost:8080/"
        },
        "id": "dSQDK9SW4jmD",
        "outputId": "175e5040-f996-4fa2-908b-96b307955840"
      },
      "execution_count": 13,
      "outputs": [
        {
          "output_type": "stream",
          "name": "stdout",
          "text": [
            "AUC Score: 0.99737962659679\n"
          ]
        }
      ]
    },
    {
      "cell_type": "code",
      "source": [
        "#Q29. Train a Random Forest Regressor and analyze feature importance scores.\n",
        "from sklearn.datasets import fetch_california_housing\n",
        "from sklearn.ensemble import RandomForestRegressor\n",
        "from sklearn.model_selection import train_test_split\n",
        "import pandas as pd\n",
        "\n",
        "# 1. Load the dataset\n",
        "data = fetch_california_housing()\n",
        "X, y = data.data, data.target\n",
        "feature_names = data.feature_names\n",
        "\n",
        "# 2. Split the dataset\n",
        "X_train, X_test, y_train, y_test = train_test_split(\n",
        "    X, y, test_size=0.2, random_state=42\n",
        ")\n",
        "\n",
        "# 3. Train Random Forest Regressor\n",
        "model = RandomForestRegressor(n_estimators=100, random_state=42)\n",
        "model.fit(X_train, y_train)\n",
        "\n",
        "# 4. Get feature importances\n",
        "importances = model.feature_importances_\n",
        "importance_df = pd.DataFrame({\n",
        "    'Feature': feature_names,\n",
        "    'Importance': importances\n",
        "}).sort_values(by='Importance', ascending=False)\n",
        "\n",
        "# 5. Display feature importance\n",
        "print(\"📊 Feature Importance Scores (Descending):\")\n",
        "print(importance_df.to_string(index=False))\n",
        "\n"
      ],
      "metadata": {
        "colab": {
          "base_uri": "https://localhost:8080/"
        },
        "id": "gED9TtV45EQD",
        "outputId": "47f9a467-50f0-46d3-ab66-77cfcda88592"
      },
      "execution_count": 14,
      "outputs": [
        {
          "output_type": "stream",
          "name": "stdout",
          "text": [
            "📊 Feature Importance Scores (Descending):\n",
            "   Feature  Importance\n",
            "    MedInc    0.524871\n",
            "  AveOccup    0.138443\n",
            "  Latitude    0.088936\n",
            " Longitude    0.088629\n",
            "  HouseAge    0.054593\n",
            "  AveRooms    0.044272\n",
            "Population    0.030650\n",
            " AveBedrms    0.029606\n"
          ]
        }
      ]
    },
    {
      "cell_type": "code",
      "source": [
        "#Q30. Train an ensemble model using both Bagging and Random Forest and compare accuracy.\n",
        "\n",
        "from sklearn.ensemble import BaggingClassifier\n",
        "\n",
        "# Training Bagging Classifier\n",
        "bagging_clf = BaggingClassifier(estimator=DecisionTreeClassifier(), n_estimators=50, random_state=42)\n",
        "bagging_clf.fit(X_train, y_train)\n",
        "y_pred_bagging = bagging_clf.predict(X_test)\n",
        "\n",
        "# Training Random Forest Classifier\n",
        "rf_clf = RandomForestClassifier(n_estimators=100, random_state=42)\n",
        "rf_clf.fit(X_train, y_train)\n",
        "y_pred_rf = rf_clf.predict(X_test)\n",
        "\n",
        "# Compare accuracy\n",
        "print(\"Bagging Classifier Accuracy:\", accuracy_score(y_test, y_pred_bagging))\n",
        "print(\"Random Forest Classifier Accuracy:\", accuracy_score(y_test, y_pred_rf))\n",
        "\n",
        "\n"
      ],
      "metadata": {
        "colab": {
          "base_uri": "https://localhost:8080/"
        },
        "id": "m80Fvm6C5evv",
        "outputId": "724ec2ca-00c2-4b13-d21a-78e0b9a68371"
      },
      "execution_count": 16,
      "outputs": [
        {
          "output_type": "stream",
          "name": "stdout",
          "text": [
            "Bagging Classifier Accuracy: 0.956140350877193\n",
            "Random Forest Classifier Accuracy: 0.9649122807017544\n"
          ]
        }
      ]
    },
    {
      "cell_type": "code",
      "source": [
        "#Q31. Train a Random Forest Classifier and tune hyperparameters using GridSearchCV.\n",
        "\n",
        "from sklearn.datasets import load_breast_cancer\n",
        "from sklearn.ensemble import RandomForestClassifier\n",
        "from sklearn.model_selection import GridSearchCV, train_test_split\n",
        "from sklearn.metrics import accuracy_score\n",
        "\n",
        "# 1. Load dataset\n",
        "data = load_breast_cancer()\n",
        "X, y = data.data, data.target\n",
        "\n",
        "# 2. Train-test split\n",
        "X_train, X_test, y_train, y_test = train_test_split(\n",
        "    X, y, test_size=0.2, random_state=42\n",
        ")\n",
        "\n",
        "# 3. Define parameter grid for tuning\n",
        "param_grid = {\n",
        "    'n_estimators': [50, 100, 150],\n",
        "    'max_depth': [None, 5, 10],\n",
        "    'min_samples_split': [2, 5, 10]\n",
        "}\n",
        "\n",
        "# 4. Initialize Random Forest Classifier\n",
        "rf = RandomForestClassifier(random_state=42)\n",
        "\n",
        "# 5. Set up GridSearchCV\n",
        "grid_search = GridSearchCV(\n",
        "    estimator=rf,\n",
        "    param_grid=param_grid,\n",
        "    cv=5,\n",
        "    scoring='accuracy',\n",
        "    n_jobs=-1\n",
        ")\n",
        "\n",
        "# 6. Fit GridSearchCV\n",
        "grid_search.fit(X_train, y_train)\n",
        "\n",
        "# 7. Predict on test set with best estimator\n",
        "best_rf = grid_search.best_estimator_\n",
        "y_pred = best_rf.predict(X_test)\n",
        "\n",
        "# 8. Results\n",
        "print(\"✅ Best Hyperparameters:\")\n",
        "print(grid_search.best_params_)\n",
        "print(f\"🎯 Accuracy on Test Set: {accuracy_score(y_test, y_pred):.4f}\")\n"
      ],
      "metadata": {
        "colab": {
          "base_uri": "https://localhost:8080/"
        },
        "id": "vPVkOTYf58Dl",
        "outputId": "1a3b3af4-acb6-444d-cfe5-59354e07dfa7"
      },
      "execution_count": 17,
      "outputs": [
        {
          "output_type": "stream",
          "name": "stdout",
          "text": [
            "✅ Best Hyperparameters:\n",
            "{'max_depth': None, 'min_samples_split': 2, 'n_estimators': 150}\n",
            "🎯 Accuracy on Test Set: 0.9649\n"
          ]
        }
      ]
    },
    {
      "cell_type": "code",
      "source": [
        "#Q32. Train a Bagging Regressor with different numbers of base estimators and compare performance.\n",
        "\n",
        "from sklearn.ensemble import BaggingRegressor\n",
        "\n",
        "# Train models with different numbers of base estimators\n",
        "estimators = [10, 50, 100]\n",
        "for n in estimators:\n",
        "    bagging_reg = BaggingRegressor(estimator=DecisionTreeRegressor(), n_estimators=n, random_state=42)\n",
        "    bagging_reg.fit(X_train, y_train)\n",
        "    y_pred = bagging_reg.predict(X_test)\n",
        "    print(f\"Bagging Regressor ({n} estimators) MSE:\", mean_squared_error(y_test, y_pred))"
      ],
      "metadata": {
        "colab": {
          "base_uri": "https://localhost:8080/"
        },
        "id": "GuxSfOhX6aiA",
        "outputId": "26887161-7f8c-4057-d929-59d28715b3a2"
      },
      "execution_count": 19,
      "outputs": [
        {
          "output_type": "stream",
          "name": "stdout",
          "text": [
            "Bagging Regressor (10 estimators) MSE: 0.2824242776841025\n",
            "Bagging Regressor (50 estimators) MSE: 0.2572988359842641\n",
            "Bagging Regressor (100 estimators) MSE: 0.25592438609899626\n"
          ]
        }
      ]
    },
    {
      "cell_type": "code",
      "source": [
        "#Q33. Train a Random Forest Classifier and analyze misclassified samples.\n",
        "\n",
        "from sklearn.datasets import load_breast_cancer\n",
        "from sklearn.ensemble import RandomForestClassifier\n",
        "from sklearn.model_selection import train_test_split\n",
        "from sklearn.metrics import accuracy_score\n",
        "\n",
        "# 1. Load the dataset\n",
        "data = load_breast_cancer()\n",
        "X, y = data.data, data.target\n",
        "target_names = data.target_names\n",
        "\n",
        "# 2. Train-test split\n",
        "X_train, X_test, y_train, y_test = train_test_split(\n",
        "    X, y, test_size=0.2, random_state=42\n",
        ")\n",
        "\n",
        "# 3. Train the Random Forest Classifier\n",
        "rf = RandomForestClassifier(n_estimators=100, random_state=42)\n",
        "rf.fit(X_train, y_train)\n",
        "\n",
        "# 4. Predict on the test set\n",
        "y_pred = rf.predict(X_test)\n",
        "\n",
        "# 5. Evaluate accuracy\n",
        "accuracy = accuracy_score(y_test, y_pred)\n",
        "print(f\"🎯 Accuracy: {accuracy:.4f}\")\n",
        "\n",
        "# 6. Analyze misclassified samples\n",
        "print(\"\\n❌ Misclassified Samples:\")\n",
        "for i, (true, pred) in enumerate(zip(y_test, y_pred)):\n",
        "    if true != pred:\n",
        "        print(f\" - Index {i}: True = {target_names[true]}, Predicted = {target_names[pred]}\")\n"
      ],
      "metadata": {
        "colab": {
          "base_uri": "https://localhost:8080/"
        },
        "id": "ASqzBLoa6277",
        "outputId": "84d65aee-0c49-4d2d-a51d-85e5fd97d469"
      },
      "execution_count": 20,
      "outputs": [
        {
          "output_type": "stream",
          "name": "stdout",
          "text": [
            "🎯 Accuracy: 0.9649\n",
            "\n",
            "❌ Misclassified Samples:\n",
            " - Index 8: True = benign, Predicted = malignant\n",
            " - Index 20: True = malignant, Predicted = benign\n",
            " - Index 77: True = malignant, Predicted = benign\n",
            " - Index 82: True = malignant, Predicted = benign\n"
          ]
        }
      ]
    },
    {
      "cell_type": "code",
      "source": [
        "#Q34. Train a Bagging Classifier and compare its performance with a single Decision Tree Classifier.\n",
        "\n",
        "# Train Decision Tree Classifier\n",
        "dt_clf = DecisionTreeClassifier(random_state=42)\n",
        "dt_clf.fit(X_train, y_train)\n",
        "y_pred_dt = dt_clf.predict(X_test)\n",
        "\n",
        "# Training Bagging Classifier\n",
        "bagging_clf.fit(X_train, y_train)\n",
        "y_pred_bagging = bagging_clf.predict(X_test)\n",
        "\n",
        "# Compare accuracy\n",
        "print(\"Decision Tree Accuracy:\", accuracy_score(y_test, y_pred_dt))\n",
        "print(\"Bagging Classifier Accuracy:\", accuracy_score(y_test, y_pred_bagging))"
      ],
      "metadata": {
        "colab": {
          "base_uri": "https://localhost:8080/"
        },
        "id": "ROG-K93d7tCV",
        "outputId": "f1f5c7f2-2f5b-4ada-b387-566bd4cdf974"
      },
      "execution_count": 22,
      "outputs": [
        {
          "output_type": "stream",
          "name": "stdout",
          "text": [
            "Decision Tree Accuracy: 0.9473684210526315\n",
            "Bagging Classifier Accuracy: 0.956140350877193\n"
          ]
        }
      ]
    },
    {
      "cell_type": "code",
      "source": [
        "#Q35. Train a Random Forest Classifier and visualize the confusion matrix.\n",
        "\n",
        "import matplotlib.pyplot as plt\n",
        "import seaborn as sns\n",
        "from sklearn.datasets import load_breast_cancer\n",
        "from sklearn.ensemble import RandomForestClassifier\n",
        "from sklearn.metrics import confusion_matrix\n",
        "from sklearn.model_selection import train_test_split\n",
        "\n",
        "# 1. Load the dataset\n",
        "data = load_breast_cancer()\n",
        "X, y = data.data, data.target\n",
        "target_names = data.target_names\n",
        "\n",
        "# 2. Train-test split\n",
        "X_train, X_test, y_train, y_test = train_test_split(\n",
        "    X, y, test_size=0.2, random_state=42\n",
        ")\n",
        "\n",
        "# 3. Train the Random Forest Classifier\n",
        "model = RandomForestClassifier(n_estimators=100, random_state=42)\n",
        "model.fit(X_train, y_train)\n",
        "\n",
        "# 4. Make predictions\n",
        "y_pred = model.predict(X_test)\n",
        "\n",
        "# 5. Compute confusion matrix\n",
        "cm = confusion_matrix(y_test, y_pred)\n",
        "\n",
        "# 6. Plot confusion matrix\n",
        "plt.figure(figsize=(6, 5))\n",
        "sns.heatmap(cm, annot=True, fmt='d', cmap='Blues',\n",
        "            xticklabels=target_names, yticklabels=target_names)\n",
        "plt.title(\"Random Forest Confusion Matrix\")\n",
        "plt.xlabel(\"Predicted Label\")\n",
        "plt.ylabel(\"True Label\")\n",
        "plt.tight_layout()\n",
        "plt.show()\n"
      ],
      "metadata": {
        "colab": {
          "base_uri": "https://localhost:8080/",
          "height": 507
        },
        "id": "sKYgSB2w8PBU",
        "outputId": "7ccb7efc-904e-4594-d79f-733d6dc765ea"
      },
      "execution_count": 23,
      "outputs": [
        {
          "output_type": "display_data",
          "data": {
            "text/plain": [
              "<Figure size 600x500 with 2 Axes>"
            ],
            "image/png": "[encoded data removed]"
          },
          "metadata": {}
        }
      ]
    },
    {
      "cell_type": "code",
      "source": [
        "#Q36. Train a Stacking Classifier using Decision Trees, SVM, and Logistic Regression, and compare accuracy.\n",
        "\n",
        "from sklearn.datasets import load_breast_cancer\n",
        "from sklearn.model_selection import train_test_split\n",
        "from sklearn.ensemble import StackingClassifier\n",
        "from sklearn.linear_model import LogisticRegression\n",
        "from sklearn.svm import SVC\n",
        "from sklearn.tree import DecisionTreeClassifier\n",
        "from sklearn.metrics import accuracy_score\n",
        "\n",
        "# 1. Load dataset\n",
        "data = load_breast_cancer()\n",
        "X, y = data.data, data.target\n",
        "\n",
        "# 2. Split into training and test sets\n",
        "X_train, X_test, y_train, y_test = train_test_split(\n",
        "    X, y, test_size=0.2, random_state=42\n",
        ")\n",
        "\n",
        "# 3. Define base estimators\n",
        "base_estimators = [\n",
        "    ('decision_tree', DecisionTreeClassifier(random_state=42)),\n",
        "    ('svm', SVC(probability=True, kernel='rbf', random_state=42)),\n",
        "    ('log_reg', LogisticRegression(solver='liblinear', random_state=42))\n",
        "]\n",
        "\n",
        "# 4. Define the stacking classifier\n",
        "stack_model = StackingClassifier(\n",
        "    estimators=base_estimators,\n",
        "    final_estimator=LogisticRegression(solver='liblinear', random_state=42),\n",
        "    cv=5\n",
        ")\n",
        "\n",
        "# 5. Fit the stacking classifier\n",
        "stack_model.fit(X_train, y_train)\n",
        "y_pred_stack = stack_model.predict(X_test)\n",
        "acc_stack = accuracy_score(y_test, y_pred_stack)\n",
        "\n",
        "# 6. Evaluate and print base model accuracy\n",
        "print(\"🔍 Base Model Accuracy:\")\n",
        "for name, model in base_estimators:\n",
        "    model.fit(X_train, y_train)\n",
        "    acc = accuracy_score(y_test, model.predict(X_test))\n",
        "    print(f\" - {name}: {acc:.4f}\")\n",
        "\n",
        "# 7. Print stacking classifier accuracy\n",
        "print(f\"\\n🔗 Stacking Classifier Accuracy: {acc_stack:.4f}\")\n"
      ],
      "metadata": {
        "colab": {
          "base_uri": "https://localhost:8080/"
        },
        "id": "Kz40_5Po8q5b",
        "outputId": "bbd56c9b-7472-425d-e837-d3f3082c7e3a"
      },
      "execution_count": 24,
      "outputs": [
        {
          "output_type": "stream",
          "name": "stdout",
          "text": [
            "🔍 Base Model Accuracy:\n",
            " - decision_tree: 0.9474\n",
            " - svm: 0.9474\n",
            " - log_reg: 0.9561\n",
            "\n",
            "🔗 Stacking Classifier Accuracy: 0.9649\n"
          ]
        }
      ]
    },
    {
      "cell_type": "code",
      "source": [
        "#Q37. Train a Random Forest Classifier and print the top 5 most important features.\n",
        "\n",
        "from sklearn.datasets import load_breast_cancer\n",
        "from sklearn.ensemble import RandomForestClassifier\n",
        "from sklearn.model_selection import train_test_split\n",
        "import pandas as pd\n",
        "\n",
        "# 1. Load dataset\n",
        "data = load_breast_cancer()\n",
        "X, y = data.data, data.target\n",
        "feature_names = data.feature_names\n",
        "\n",
        "# 2. Train-test split\n",
        "X_train, X_test, y_train, y_test = train_test_split(\n",
        "    X, y, test_size=0.2, random_state=42\n",
        ")\n",
        "\n",
        "# 3. Train Random Forest Classifier\n",
        "model = RandomForestClassifier(n_estimators=100, random_state=42)\n",
        "model.fit(X_train, y_train)\n",
        "\n",
        "# 4. Get feature importances\n",
        "importances = model.feature_importances_\n",
        "importance_df = pd.DataFrame({\n",
        "    'Feature': feature_names,\n",
        "    'Importance': importances\n",
        "}).sort_values(by='Importance', ascending=False)\n",
        "\n",
        "# 5. Print top 5 important features\n",
        "print(\"🔝 Top 5 Most Important Features:\")\n",
        "print(importance_df.head(5).to_string(index=False))\n"
      ],
      "metadata": {
        "colab": {
          "base_uri": "https://localhost:8080/"
        },
        "id": "ydgO__0u9BoV",
        "outputId": "323d1ad7-9b25-4366-98eb-a1263bbb4160"
      },
      "execution_count": 25,
      "outputs": [
        {
          "output_type": "stream",
          "name": "stdout",
          "text": [
            "🔝 Top 5 Most Important Features:\n",
            "             Feature  Importance\n",
            "          worst area    0.153892\n",
            "worst concave points    0.144663\n",
            " mean concave points    0.106210\n",
            "        worst radius    0.077987\n",
            "      mean concavity    0.068001\n"
          ]
        }
      ]
    },
    {
      "cell_type": "code",
      "source": [
        "#Q38. Train a Bagging Classifier and evaluate performance using Precision, Recall, and F1-score.\n",
        "\n",
        "from sklearn.metrics import precision_score, recall_score, f1_score\n",
        "\n",
        "# Training Bagging Classifier\n",
        "bagging_clf.fit(X_train, y_train)\n",
        "y_pred = bagging_clf.predict(X_test)\n",
        "\n",
        "# Print performance metrics\n",
        "print(\"Precision:\", precision_score(y_test, y_pred))\n",
        "print(\"Recall:\", recall_score(y_test, y_pred))\n",
        "print(\"F1 Score:\", f1_score(y_test, y_pred))"
      ],
      "metadata": {
        "colab": {
          "base_uri": "https://localhost:8080/"
        },
        "id": "CcxobnmI9Wp2",
        "outputId": "23af3deb-9e3f-42c5-8dd3-682341797207"
      },
      "execution_count": 27,
      "outputs": [
        {
          "output_type": "stream",
          "name": "stdout",
          "text": [
            "Precision: 0.9583333333333334\n",
            "Recall: 0.971830985915493\n",
            "F1 Score: 0.965034965034965\n"
          ]
        }
      ]
    },
    {
      "cell_type": "code",
      "source": [
        "#Q39. Train a Random Forest Classifier and analyze the effect of max_depth on accuracy.\n",
        "\n",
        "from sklearn.datasets import load_breast_cancer\n",
        "from sklearn.ensemble import RandomForestClassifier\n",
        "from sklearn.model_selection import train_test_split\n",
        "from sklearn.metrics import accuracy_score\n",
        "\n",
        "# 1. Load the dataset\n",
        "data = load_breast_cancer()\n",
        "X, y = data.data, data.target\n",
        "\n",
        "# 2. Split into training and test sets\n",
        "X_train, X_test, y_train, y_test = train_test_split(\n",
        "    X, y, test_size=0.2, random_state=42\n",
        ")\n",
        "\n",
        "# 3. Define max_depth values to test\n",
        "depth_values = [2, 4, 6, 8, 10, None]\n",
        "\n",
        "# 4. Train and evaluate model for each max_depth\n",
        "print(\"📊 Random Forest Accuracy with Different max_depth Values:\")\n",
        "for depth in depth_values:\n",
        "    model = RandomForestClassifier(\n",
        "        n_estimators=100,\n",
        "        max_depth=depth,\n",
        "        random_state=42\n",
        "    )\n",
        "    model.fit(X_train, y_train)\n",
        "    y_pred = model.predict(X_test)\n",
        "    acc = accuracy_score(y_test, y_pred)\n",
        "    label = \"None (unlimited)\" if depth is None else str(depth)\n",
        "    print(f\" - max_depth = {label}: Accuracy = {acc:.4f}\")\n"
      ],
      "metadata": {
        "colab": {
          "base_uri": "https://localhost:8080/"
        },
        "id": "i1k7gBVU9z-f",
        "outputId": "88b61bcc-5a66-4f12-e378-f366584e99ff"
      },
      "execution_count": 28,
      "outputs": [
        {
          "output_type": "stream",
          "name": "stdout",
          "text": [
            "📊 Random Forest Accuracy with Different max_depth Values:\n",
            " - max_depth = 2: Accuracy = 0.9649\n",
            " - max_depth = 4: Accuracy = 0.9649\n",
            " - max_depth = 6: Accuracy = 0.9649\n",
            " - max_depth = 8: Accuracy = 0.9649\n",
            " - max_depth = 10: Accuracy = 0.9649\n",
            " - max_depth = None (unlimited): Accuracy = 0.9649\n"
          ]
        }
      ]
    },
    {
      "cell_type": "code",
      "source": [
        "#Q40. Train a Bagging Regressor using different base estimators (DecisionTree and KNeighbors) and compare performance.\n",
        "\n",
        "from sklearn.neighbors import KNeighborsRegressor\n",
        "\n",
        "# Define base estimators\n",
        "base_estimators = [DecisionTreeRegressor(), KNeighborsRegressor()]\n",
        "\n",
        "# Train and compare\n",
        "for estimator in base_estimators:\n",
        "    bagging_reg = BaggingRegressor(estimator=estimator, n_estimators=50, random_state=42)\n",
        "    bagging_reg.fit(X_train, y_train)\n",
        "    y_pred = bagging_reg.predict(X_test)\n",
        "    print(f\"Base Estimator {estimator.__class__.__name__}: MSE = {mean_squared_error(y_test, y_pred)}\")"
      ],
      "metadata": {
        "colab": {
          "base_uri": "https://localhost:8080/"
        },
        "id": "GPKWnfuT-mm8",
        "outputId": "85f04a0b-b8ee-4009-9829-42d4915d9813"
      },
      "execution_count": 30,
      "outputs": [
        {
          "output_type": "stream",
          "name": "stdout",
          "text": [
            "Base Estimator DecisionTreeRegressor: MSE = 0.2572988359842641\n",
            "Base Estimator KNeighborsRegressor: MSE = 1.0762752887085227\n"
          ]
        }
      ]
    },
    {
      "cell_type": "code",
      "source": [
        "#Q41. Train a Random Forest Classifier and evaluate its performance using ROC-AUC Score.\n",
        "\n",
        "from sklearn.datasets import load_breast_cancer\n",
        "from sklearn.ensemble import RandomForestClassifier\n",
        "from sklearn.model_selection import train_test_split\n",
        "from sklearn.metrics import roc_auc_score\n",
        "\n",
        "# 1. Load the dataset\n",
        "data = load_breast_cancer()\n",
        "X, y = data.data, data.target\n",
        "\n",
        "# 2. Split the data\n",
        "X_train, X_test, y_train, y_test = train_test_split(\n",
        "    X, y, test_size=0.2, random_state=42\n",
        ")\n",
        "\n",
        "# 3. Train the Random Forest Classifier\n",
        "model = RandomForestClassifier(n_estimators=100, random_state=42)\n",
        "model.fit(X_train, y_train)\n",
        "\n",
        "# 4. Predict probabilities for the positive class\n",
        "y_probs = model.predict_proba(X_test)[:, 1]\n",
        "\n",
        "# 5. Compute ROC-AUC score\n",
        "roc_auc = roc_auc_score(y_test, y_probs)\n",
        "print(f\"📈 Random Forest ROC-AUC Score: {roc_auc:.4f}\")\n"
      ],
      "metadata": {
        "colab": {
          "base_uri": "https://localhost:8080/"
        },
        "id": "4UbBFNo0_Zp8",
        "outputId": "f807b65a-8148-4cb0-8a13-790f0e44d927"
      },
      "execution_count": 31,
      "outputs": [
        {
          "output_type": "stream",
          "name": "stdout",
          "text": [
            "📈 Random Forest ROC-AUC Score: 0.9953\n"
          ]
        }
      ]
    },
    {
      "cell_type": "code",
      "source": [
        "#Q42. Train a Bagging Classifier and evaluate its performance using cross-validatio.\n",
        "\n",
        "from sklearn.model_selection import cross_val_score\n",
        "\n",
        "# Perform cross-validation\n",
        "cv_scores = cross_val_score(bagging_clf, X, y, cv=5, scoring=\"accuracy\")\n",
        "print(\"Cross-Validation Accuracy Scores:\", cv_scores)\n",
        "print(\"Mean Accuracy:\", np.mean(cv_scores))"
      ],
      "metadata": {
        "colab": {
          "base_uri": "https://localhost:8080/"
        },
        "id": "w71ulTkp_5dV",
        "outputId": "d3d76d28-8eae-4811-e903-eca2e36d3ed8"
      },
      "execution_count": 33,
      "outputs": [
        {
          "output_type": "stream",
          "name": "stdout",
          "text": [
            "Cross-Validation Accuracy Scores: [0.9122807  0.92105263 0.98245614 0.95614035 1.        ]\n",
            "Mean Accuracy: 0.9543859649122808\n"
          ]
        }
      ]
    },
    {
      "cell_type": "code",
      "source": [
        "#Q43. Train a Random Forest Classifier and plot the Precision-Recall curv.\n",
        "\n",
        "import matplotlib.pyplot as plt\n",
        "from sklearn.datasets import load_breast_cancer\n",
        "from sklearn.ensemble import RandomForestClassifier\n",
        "from sklearn.model_selection import train_test_split\n",
        "from sklearn.metrics import precision_recall_curve, average_precision_score\n",
        "\n",
        "# 1. Load the dataset\n",
        "data = load_breast_cancer()\n",
        "X, y = data.data, data.target\n",
        "\n",
        "# 2. Train-test split\n",
        "X_train, X_test, y_train, y_test = train_test_split(\n",
        "    X, y, test_size=0.2, random_state=42\n",
        ")\n",
        "\n",
        "# 3. Train Random Forest Classifier\n",
        "model = RandomForestClassifier(n_estimators=100, random_state=42)\n",
        "model.fit(X_train, y_train)\n",
        "\n",
        "# 4. Predict probabilities for the positive class\n",
        "y_probs = model.predict_proba(X_test)[:, 1]\n",
        "\n",
        "# 5. Calculate Precision-Recall values\n",
        "precision, recall, _ = precision_recall_curve(y_test, y_probs)\n",
        "avg_precision = average_precision_score(y_test, y_probs)\n",
        "\n",
        "# 6. Plot the Precision-Recall curve\n",
        "plt.figure(figsize=(8, 5))\n",
        "plt.plot(recall, precision, label=f\"AP = {avg_precision:.2f}\", color='blue')\n",
        "plt.xlabel(\"Recall\")\n",
        "plt.ylabel(\"Precision\")\n",
        "plt.title(\"Precision-Recall Curve (Random Forest)\")\n",
        "plt.grid(True)\n",
        "plt.legend(loc=\"lower left\")\n",
        "plt.tight_layout()\n",
        "plt.show()\n"
      ],
      "metadata": {
        "colab": {
          "base_uri": "https://localhost:8080/",
          "height": 507
        },
        "id": "FliJZUElARFN",
        "outputId": "2421d2b4-0819-44dc-d9c2-0abea2398c16"
      },
      "execution_count": 34,
      "outputs": [
        {
          "output_type": "display_data",
          "data": {
            "text/plain": [
              "<Figure size 800x500 with 1 Axes>"
            ],
            "image/png": "[encoded data removed]"
          },
          "metadata": {}
        }
      ]
    },
    {
      "cell_type": "code",
      "source": [
        "#Q44. Train a Stacking Classifier with Random Forest and Logistic Regression and compare accuracy.\n",
        "\n",
        "from sklearn.datasets import load_breast_cancer\n",
        "from sklearn.ensemble import StackingClassifier, RandomForestClassifier\n",
        "from sklearn.linear_model import LogisticRegression\n",
        "from sklearn.model_selection import train_test_split\n",
        "from sklearn.metrics import accuracy_score\n",
        "\n",
        "# 1. Load the dataset\n",
        "data = load_breast_cancer()\n",
        "X, y = data.data, data.target\n",
        "\n",
        "# 2. Train-test split\n",
        "X_train, X_test, y_train, y_test = train_test_split(\n",
        "    X, y, test_size=0.2, random_state=42\n",
        ")\n",
        "\n",
        "# 3. Define base estimators\n",
        "base_estimators = [\n",
        "    ('rf', RandomForestClassifier(n_estimators=100, random_state=42)),\n",
        "    ('lr', LogisticRegression(solver='liblinear', random_state=42))\n",
        "]\n",
        "\n",
        "# 4. Define the stacking classifier\n",
        "stack_model = StackingClassifier(\n",
        "    estimators=base_estimators,\n",
        "    final_estimator=LogisticRegression(solver='liblinear'),\n",
        "    cv=5\n",
        ")\n",
        "\n",
        "# 5. Train and evaluate base estimators\n",
        "print(\"📊 Base Model Accuracies:\")\n",
        "for name, model in base_estimators:\n",
        "    model.fit(X_train, y_train)\n",
        "    acc = accuracy_score(y_test, model.predict(X_test))\n",
        "    print(f\" - {name}: {acc:.4f}\")\n",
        "\n",
        "# 6. Train and evaluate the stacking model\n",
        "stack_model.fit(X_train, y_train)\n",
        "y_pred_stack = stack_model.predict(X_test)\n",
        "acc_stack = accuracy_score(y_test, y_pred_stack)\n",
        "\n",
        "print(f\"\\n🔗 Stacking Classifier Accuracy: {acc_stack:.4f}\")\n"
      ],
      "metadata": {
        "colab": {
          "base_uri": "https://localhost:8080/"
        },
        "id": "9I-ErYwoAsBm",
        "outputId": "6767638c-90f3-43e2-d714-2c0448929bff"
      },
      "execution_count": 35,
      "outputs": [
        {
          "output_type": "stream",
          "name": "stdout",
          "text": [
            "📊 Base Model Accuracies:\n",
            " - rf: 0.9649\n",
            " - lr: 0.9561\n",
            "\n",
            "🔗 Stacking Classifier Accuracy: 0.9737\n"
          ]
        }
      ]
    },
    {
      "cell_type": "code",
      "source": [
        " #Q45. Train a Bagging Regressor with different levels of bootstrap samples and compare performance.\n",
        "\n",
        "# Train and compare different bootstrap sample sizes\n",
        "bootstrap_samples = [0.5, 0.7, 1.0]\n",
        "for sample_size in bootstrap_samples:\n",
        "    bagging_reg = BaggingRegressor(estimator=DecisionTreeRegressor(), n_estimators=50, max_samples=sample_size, random_state=42)\n",
        "    bagging_reg.fit(X_train, y_train)\n",
        "    y_pred = bagging_reg.predict(X_test)\n",
        "    print(f\"Bootstrap Sample {sample_size}: MSE = {mean_squared_error(y_test, y_pred)}\")"
      ],
      "metadata": {
        "colab": {
          "base_uri": "https://localhost:8080/"
        },
        "id": "XlunB5LUBTpj",
        "outputId": "08736755-0ac7-4ff0-e912-670c76d01260"
      },
      "execution_count": 37,
      "outputs": [
        {
          "output_type": "stream",
          "name": "stdout",
          "text": [
            "Bootstrap Sample 0.5: MSE = 0.26636330596781516\n",
            "Bootstrap Sample 0.7: MSE = 0.263842294851086\n",
            "Bootstrap Sample 1.0: MSE = 0.2572988359842641\n"
          ]
        }
      ]
    },
    {
      "cell_type": "code",
      "source": [],
      "metadata": {
        "id": "lfKnaqLnB0gm"
      },
      "execution_count": null,
      "outputs": []
    }
  ]
}